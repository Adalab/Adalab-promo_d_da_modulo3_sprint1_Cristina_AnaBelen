{
 "cells": [
  {
   "attachments": {},
   "cell_type": "markdown",
   "metadata": {},
   "source": [
    "### Regresión Logística - Pair programming ###\n",
    "\n",
    "## 1. EDA ##"
   ]
  },
  {
   "cell_type": "code",
   "execution_count": null,
   "metadata": {},
   "outputs": [],
   "source": [
    "# Tratamiento de datos\n",
    "# -----------------------------------------------------------------------\n",
    "import numpy as np\n",
    "import pandas as pd\n",
    "\n",
    "\n",
    "# Gráficos\n",
    "# ------------------------------------------------------------------------------\n",
    "import matplotlib.pyplot as plt\n",
    "import seaborn as sns\n",
    "\n",
    "\n",
    "#  Gestión de warnings\n",
    "# ------------------------------------------------------------------------------\n",
    "import warnings\n",
    "warnings.filterwarnings(\"ignore\")"
   ]
  },
  {
   "attachments": {},
   "cell_type": "markdown",
   "metadata": {},
   "source": [
    "Para los ejercicios de pair programming de Regresión logística tendremos que buscar un dataset (al igual que hicismos en regresión lineal) que usaremos a lo largo de los siguientes ejercicios.\n",
    "\n",
    "Se ruega a la hora de realizar la entrega que incluyais el conjunto de datos que hayais decidido emplear para estos ejercicios.\n",
    "\n",
    "Objetivos\n",
    "\n",
    "Buscar un conjunto de datos a analizar\n",
    "\n",
    "Se recomienda que el conjunto de datos a analizar tenga variables numéricas y categóricas, primando que haya más de una variable de tipo numérico.\n",
    "\n",
    "Explicar los datos y las variables disponibles en el conjunto de datos seleccionado\n",
    "\n",
    "Realizar un EDA sencillo poniendo en práctica los conocimientos adquiridos hasta el momento.\n",
    "\n",
    "Interpretación de los resultados."
   ]
  },
  {
   "cell_type": "code",
   "execution_count": null,
   "metadata": {},
   "outputs": [],
   "source": [
    "df = pd.read_csv(\"data/card_transdata.csv\")\n",
    "df.head()"
   ]
  },
  {
   "cell_type": "code",
   "execution_count": null,
   "metadata": {},
   "outputs": [],
   "source": [
    "df.info()"
   ]
  },
  {
   "cell_type": "code",
   "execution_count": null,
   "metadata": {},
   "outputs": [],
   "source": [
    "df.duplicated().sum()"
   ]
  },
  {
   "cell_type": "code",
   "execution_count": null,
   "metadata": {},
   "outputs": [],
   "source": [
    "df.isnull().sum()"
   ]
  },
  {
   "attachments": {},
   "cell_type": "markdown",
   "metadata": {},
   "source": [
    "Vemos que no tenemos ni nulos ni duplicados."
   ]
  },
  {
   "cell_type": "code",
   "execution_count": null,
   "metadata": {},
   "outputs": [],
   "source": [
    "correlacion = df.corr()\n",
    "correlacion"
   ]
  },
  {
   "cell_type": "code",
   "execution_count": null,
   "metadata": {},
   "outputs": [],
   "source": [
    "plt.figure(figsize=(15,8))\n",
    "mask = np.triu(np.ones_like(correlacion, dtype=bool))\n",
    "sns.heatmap(correlacion, cmap=\"viridis\", annot = True, mask=mask, vmin = -1, vmax=1);"
   ]
  },
  {
   "attachments": {},
   "cell_type": "markdown",
   "metadata": {},
   "source": [
    "Podemos observar que todas nuestras variables son independientes"
   ]
  },
  {
   "cell_type": "code",
   "execution_count": null,
   "metadata": {},
   "outputs": [],
   "source": [
    "df.describe().T"
   ]
  },
  {
   "attachments": {},
   "cell_type": "markdown",
   "metadata": {},
   "source": [
    "Vemos que en las variables numéricas tendremos outliers, que los estudiaremos más adelante."
   ]
  },
  {
   "cell_type": "code",
   "execution_count": null,
   "metadata": {},
   "outputs": [],
   "source": [
    "df[\"fraud\"].value_counts()"
   ]
  },
  {
   "cell_type": "code",
   "execution_count": null,
   "metadata": {},
   "outputs": [],
   "source": [
    "df[\"online_order\"].value_counts()"
   ]
  },
  {
   "cell_type": "code",
   "execution_count": null,
   "metadata": {},
   "outputs": [],
   "source": [
    "df[\"used_pin_number\"].value_counts()"
   ]
  },
  {
   "cell_type": "code",
   "execution_count": null,
   "metadata": {},
   "outputs": [],
   "source": [
    "df[\"used_chip\"].value_counts()"
   ]
  },
  {
   "cell_type": "code",
   "execution_count": null,
   "metadata": {},
   "outputs": [],
   "source": [
    "df[\"repeat_retailer\"].value_counts()"
   ]
  },
  {
   "attachments": {},
   "cell_type": "markdown",
   "metadata": {},
   "source": [
    "Cambiamos las columnas a categóricas porque no consideramos que sean numéricas."
   ]
  },
  {
   "cell_type": "code",
   "execution_count": null,
   "metadata": {},
   "outputs": [],
   "source": [
    "columnas_cat = [\"used_chip\", \"repeat_retailer\", \"used_pin_number\", \"online_order\", \"used_pin_number\", \"fraud\"]\n",
    "for columna in columnas_cat:\n",
    "    df[columna] = df[columna].astype(\"category\")"
   ]
  },
  {
   "cell_type": "code",
   "execution_count": null,
   "metadata": {},
   "outputs": [],
   "source": [
    "df.info()"
   ]
  },
  {
   "cell_type": "code",
   "execution_count": null,
   "metadata": {},
   "outputs": [],
   "source": [
    "df[\"distance_from_home\"].value_counts()"
   ]
  },
  {
   "cell_type": "code",
   "execution_count": null,
   "metadata": {},
   "outputs": [],
   "source": [
    "#Gráfica para ver la variable respuesta\n",
    "sns.countplot(data= df, x = \"fraud\");"
   ]
  },
  {
   "cell_type": "code",
   "execution_count": null,
   "metadata": {},
   "outputs": [],
   "source": [
    "df.head()"
   ]
  },
  {
   "cell_type": "code",
   "execution_count": null,
   "metadata": {},
   "outputs": [],
   "source": [
    "df.groupby('fraud')['distance_from_home'].mean().reset_index()"
   ]
  },
  {
   "cell_type": "code",
   "execution_count": null,
   "metadata": {},
   "outputs": [],
   "source": [
    "df.groupby('fraud')['distance_from_home'].median().reset_index()"
   ]
  },
  {
   "cell_type": "code",
   "execution_count": null,
   "metadata": {},
   "outputs": [],
   "source": [
    "df.groupby('fraud')['distance_from_last_transaction'].mean().reset_index()"
   ]
  },
  {
   "cell_type": "code",
   "execution_count": null,
   "metadata": {},
   "outputs": [],
   "source": [
    "df.groupby('fraud')['ratio_to_median_purchase_price'].median().reset_index()"
   ]
  },
  {
   "attachments": {},
   "cell_type": "markdown",
   "metadata": {},
   "source": [
    "Hemos observado que hay ciertos patrones que se repiten, como que las compras fraudulentas se hacen a más distancia, en compras online y con una diferencia de importe."
   ]
  },
  {
   "cell_type": "code",
   "execution_count": null,
   "metadata": {},
   "outputs": [],
   "source": [
    "\n",
    "fig, axes = plt.subplots(nrows = 2, ncols = 2, figsize = (30, 20))\n",
    "\n",
    "axes = axes.flat\n",
    "columnas_cat = df.select_dtypes(include = \"category\").columns\n",
    "\n",
    "for i, colum in enumerate(columnas_cat): \n",
    "    sns.countplot(\n",
    "        data = df,\n",
    "        x = colum,\n",
    "        hue = \"fraud\",\n",
    "        alpha = 0.2, \n",
    "        ax = axes[i])\n",
    "    \n",
    "    \n",
    "    axes[i].set_title(colum, fontsize = 15, fontweight = \"bold\")\n",
    "    axes[i].tick_params(labelsize = 20)\n",
    "    axes[i].set_xlabel(\"\")\n",
    "    axes[i].legend(loc= \"upper right\")\n",
    "\n",
    "fig.tight_layout();"
   ]
  },
  {
   "attachments": {},
   "cell_type": "markdown",
   "metadata": {},
   "source": [
    "De estos gráficos deducimos que los fraudes suelen ser en pagos recurrentes en compra online y sin usar el número pin."
   ]
  },
  {
   "cell_type": "code",
   "execution_count": null,
   "metadata": {},
   "outputs": [],
   "source": [
    "\n",
    "fig, axes = plt.subplots(nrows = 1, ncols = 3, figsize = (30, 10))\n",
    "\n",
    "lista_colores = [\"blue\", \"green\", \"orange\"]\n",
    "\n",
    "axes = axes.flat\n",
    "\n",
    "columnas_numeric = df.select_dtypes(include = np.number).columns\n",
    "\n",
    "for i, colum in enumerate(columnas_numeric): \n",
    "    sns.histplot(\n",
    "        data = df,\n",
    "        x = colum,\n",
    "        kde = True, \n",
    "        color = lista_colores[i], \n",
    "        line_kws = {\"linewidth\": 2}, \n",
    "        alpha = 0.2, \n",
    "        ax = axes[i])\n",
    "    \n",
    "    \n",
    "    axes[i].set_title(colum, fontsize = 15, fontweight = \"bold\")\n",
    "    axes[i].tick_params(labelsize = 20)\n",
    "    axes[i].set_xlabel(\"\")\n",
    "    \n",
    "fig.tight_layout();"
   ]
  },
  {
   "cell_type": "code",
   "execution_count": null,
   "metadata": {},
   "outputs": [],
   "source": [
    "fig, axes = plt.subplots(nrows = 1, ncols = 3, figsize = (30, 10))\n",
    "\n",
    "lista_colores = [\"blue\", \"green\", \"orange\"]\n",
    "\n",
    "axes = axes.flat\n",
    "\n",
    "columnas_numeric = df.select_dtypes(include = np.number).columns\n",
    "\n",
    "for i, colum in enumerate(columnas_numeric): \n",
    "    sns.histplot(\n",
    "        data = df,\n",
    "        x = colum,\n",
    "        hue = \"fraud\",\n",
    "        color = lista_colores[i], \n",
    "        line_kws = {\"linewidth\": 2}, \n",
    "        alpha = 0.2, \n",
    "        ax = axes[i])\n",
    "    \n",
    "    \n",
    "    axes[i].set_title(colum, fontsize = 15, fontweight = \"bold\")\n",
    "    axes[i].tick_params(labelsize = 20)\n",
    "    axes[i].set_xlabel(\"\")\n",
    "    \n",
    "fig.tight_layout();"
   ]
  },
  {
   "cell_type": "code",
   "execution_count": null,
   "metadata": {},
   "outputs": [],
   "source": [
    "fig, axes = plt.subplots(1, 3, figsize=(30,10))\n",
    "\n",
    "categorias = df.select_dtypes(include = np.number).columns\n",
    "\n",
    "axes = axes.flat\n",
    "\n",
    "for indice, cate in enumerate(categorias):\n",
    "\n",
    "    sns.boxplot(x = df[cate], data = df, ax=axes[indice], color = \"cyan\"); # para trazar una línea de densidad\n",
    "\n",
    "    axes[indice].set_title(cate)\n",
    "    axes[indice].set_xlabel(\"\")\n",
    "\n",
    "fig.tight_layout();"
   ]
  },
  {
   "cell_type": "code",
   "execution_count": null,
   "metadata": {},
   "outputs": [],
   "source": [
    "df.head(1)"
   ]
  },
  {
   "cell_type": "code",
   "execution_count": null,
   "metadata": {},
   "outputs": [],
   "source": [
    "def detectar_outliers(lista_columnas, dataframe): \n",
    "    \n",
    "    dicc_indices = {} # creamos un diccionario donde almacenaremos índices de los outliers\n",
    "    \n",
    "    # iteramos por la lista de las columnas numéricas de nuestro dataframe\n",
    "    for col in lista_columnas:\n",
    "        \n",
    "        #calculamos los cuartiles Q1 y Q3\n",
    "        Q1 = np.nanpercentile(df[col], 25)\n",
    "        Q3 = np.nanpercentile(df[col], 75)\n",
    "        \n",
    "        # calculamos el rango intercuartil\n",
    "        IQR = Q3 - Q1\n",
    "        \n",
    "        # calculamos los límites\n",
    "        outlier_step = 1.5 * IQR\n",
    "        \n",
    "        # filtramos nuestro dataframe para indentificar los outliers\n",
    "        outliers_data = dataframe[(dataframe[col] < Q1 - outlier_step) | (dataframe[col] > Q3 + outlier_step)]\n",
    "        \n",
    "        \n",
    "        if outliers_data.shape[0] > 0: # chequeamos si nuestro dataframe tiene alguna fila. \n",
    "        \n",
    "            dicc_indices[col] = (list(outliers_data.index)) # si tiene fila es que hay outliers y por lo tanto lo añadimos a nuestro diccionario\n",
    "        \n",
    "\n",
    "    \n",
    "    return dicc_indices "
   ]
  },
  {
   "cell_type": "code",
   "execution_count": null,
   "metadata": {},
   "outputs": [],
   "source": [
    "ind = detectar_outliers(['distance_from_home', 'distance_from_last_transaction', 'ratio_to_median_purchase_price'], df)\n",
    "ind"
   ]
  },
  {
   "cell_type": "code",
   "execution_count": null,
   "metadata": {},
   "outputs": [],
   "source": [
    "valores = ind.values()\n",
    "valores = {indice for sublista in valores for indice in sublista}\n",
    "valores"
   ]
  },
  {
   "cell_type": "code",
   "execution_count": null,
   "metadata": {},
   "outputs": [],
   "source": [
    "df_outliers = df[df[\"index\"].isin(valores)]"
   ]
  },
  {
   "cell_type": "code",
   "execution_count": null,
   "metadata": {},
   "outputs": [],
   "source": [
    "df[df.index.isin(valores)]"
   ]
  },
  {
   "cell_type": "code",
   "execution_count": null,
   "metadata": {},
   "outputs": [],
   "source": [
    "#df.reset_index(inplace= True)"
   ]
  },
  {
   "cell_type": "code",
   "execution_count": null,
   "metadata": {},
   "outputs": [],
   "source": [
    "df_outliers['fraud'].value_counts()"
   ]
  },
  {
   "cell_type": "code",
   "execution_count": null,
   "metadata": {},
   "outputs": [],
   "source": [
    "df.to_pickle(\"data/card_limpio.pkl\")"
   ]
  }
 ],
 "metadata": {
  "kernelspec": {
   "display_name": "base",
   "language": "python",
   "name": "python3"
  },
  "language_info": {
   "codemirror_mode": {
    "name": "ipython",
    "version": 3
   },
   "file_extension": ".py",
   "mimetype": "text/x-python",
   "name": "python",
   "nbconvert_exporter": "python",
   "pygments_lexer": "ipython3",
   "version": "3.10.9"
  },
  "orig_nbformat": 4
 },
 "nbformat": 4,
 "nbformat_minor": 2
}
