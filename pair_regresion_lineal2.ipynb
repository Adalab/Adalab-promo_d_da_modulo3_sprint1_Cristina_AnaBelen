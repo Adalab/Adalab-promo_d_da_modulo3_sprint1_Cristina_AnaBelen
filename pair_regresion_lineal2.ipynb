{
 "cells": [
  {
   "cell_type": "code",
   "execution_count": 9,
   "metadata": {},
   "outputs": [],
   "source": [
    "\n",
    "import pandas as pd\n",
    "import numpy as np\n",
    "\n",
    "import matplotlib.pyplot as plt\n",
    "import seaborn as sns\n",
    "\n",
    "plt.rcParams[\"figure.figsize\"] = (10,8)\n",
    "\n",
    "from scipy.stats import skew\n",
    "from scipy.stats import kurtosistest\n",
    "from scipy import stats\n",
    "import statsmodels.api as sm\n",
    "\n",
    "import warnings\n",
    "warnings.filterwarnings('ignore')"
   ]
  },
  {
   "attachments": {},
   "cell_type": "markdown",
   "metadata": {},
   "source": [
    "En este ejercicio de pair programming seguiréis usando el dataset que seleccionasteis ayer.\n",
    "\n",
    "¿Qué diferencia existe el error de tipo I y el error de tipo II?\n",
    "\n",
    "¿Qué es la asimetría?\n",
    "\n",
    "¿Es vuestra variable respuesta asimétrica?\n",
    "\n",
    "¿Qué tipo de curtosis presenta vuestra variable respuesta?\n",
    "\n",
    "¿Es vuestra variable respuesta normal? Demostrarlo visual y analíticamente."
   ]
  },
  {
   "attachments": {},
   "cell_type": "markdown",
   "metadata": {},
   "source": [
    "La diferencia entre los dos tipos de errores es que el primero se comete al rechazar la hipótesis nula siendo verdadera y el segundo cuando no la rechazamos siendo falsa. "
   ]
  },
  {
   "attachments": {},
   "cell_type": "markdown",
   "metadata": {},
   "source": [
    "La asimetría en una distribución se refiere a la media y significa que la distribución no es simétrica, no forma una campana de Gauss,  sino que la curva está sesgada hacia la derecha o la izquierda. Esto viene determinado por la relación entre la media, la mediana y la moda. \n"
   ]
  },
  {
   "cell_type": "code",
   "execution_count": 2,
   "metadata": {},
   "outputs": [
    {
     "data": {
      "text/html": [
       "<div>\n",
       "<style scoped>\n",
       "    .dataframe tbody tr th:only-of-type {\n",
       "        vertical-align: middle;\n",
       "    }\n",
       "\n",
       "    .dataframe tbody tr th {\n",
       "        vertical-align: top;\n",
       "    }\n",
       "\n",
       "    .dataframe thead th {\n",
       "        text-align: right;\n",
       "    }\n",
       "</style>\n",
       "<table border=\"1\" class=\"dataframe\">\n",
       "  <thead>\n",
       "    <tr style=\"text-align: right;\">\n",
       "      <th></th>\n",
       "      <th>Branch</th>\n",
       "      <th>City</th>\n",
       "      <th>Customer type</th>\n",
       "      <th>Gender</th>\n",
       "      <th>Product line</th>\n",
       "      <th>Unit price</th>\n",
       "      <th>Quantity</th>\n",
       "      <th>Tax 5%</th>\n",
       "      <th>Total</th>\n",
       "      <th>Date</th>\n",
       "      <th>Time</th>\n",
       "      <th>Payment</th>\n",
       "      <th>Rating</th>\n",
       "    </tr>\n",
       "    <tr>\n",
       "      <th>Invoice ID</th>\n",
       "      <th></th>\n",
       "      <th></th>\n",
       "      <th></th>\n",
       "      <th></th>\n",
       "      <th></th>\n",
       "      <th></th>\n",
       "      <th></th>\n",
       "      <th></th>\n",
       "      <th></th>\n",
       "      <th></th>\n",
       "      <th></th>\n",
       "      <th></th>\n",
       "      <th></th>\n",
       "    </tr>\n",
       "  </thead>\n",
       "  <tbody>\n",
       "    <tr>\n",
       "      <th>502-05-1910</th>\n",
       "      <td>A</td>\n",
       "      <td>Yangon</td>\n",
       "      <td>Normal</td>\n",
       "      <td>Male</td>\n",
       "      <td>Health and beauty</td>\n",
       "      <td>65.18</td>\n",
       "      <td>3</td>\n",
       "      <td>9.777</td>\n",
       "      <td>205.317</td>\n",
       "      <td>2/25/2019</td>\n",
       "      <td>20:35</td>\n",
       "      <td>Credit card</td>\n",
       "      <td>6.3</td>\n",
       "    </tr>\n",
       "    <tr>\n",
       "      <th>420-18-8989</th>\n",
       "      <td>A</td>\n",
       "      <td>Yangon</td>\n",
       "      <td>Member</td>\n",
       "      <td>Female</td>\n",
       "      <td>Sports and travel</td>\n",
       "      <td>51.52</td>\n",
       "      <td>8</td>\n",
       "      <td>20.608</td>\n",
       "      <td>432.768</td>\n",
       "      <td>2/2/2019</td>\n",
       "      <td>15:47</td>\n",
       "      <td>Cash</td>\n",
       "      <td>9.6</td>\n",
       "    </tr>\n",
       "  </tbody>\n",
       "</table>\n",
       "</div>"
      ],
      "text/plain": [
       "            Branch    City Customer type  Gender       Product line  \\\n",
       "Invoice ID                                                            \n",
       "502-05-1910      A  Yangon        Normal    Male  Health and beauty   \n",
       "420-18-8989      A  Yangon        Member  Female  Sports and travel   \n",
       "\n",
       "             Unit price  Quantity  Tax 5%    Total       Date   Time  \\\n",
       "Invoice ID                                                             \n",
       "502-05-1910       65.18         3   9.777  205.317  2/25/2019  20:35   \n",
       "420-18-8989       51.52         8  20.608  432.768   2/2/2019  15:47   \n",
       "\n",
       "                 Payment  Rating  \n",
       "Invoice ID                        \n",
       "502-05-1910  Credit card     6.3  \n",
       "420-18-8989         Cash     9.6  "
      ]
     },
     "execution_count": 2,
     "metadata": {},
     "output_type": "execute_result"
    }
   ],
   "source": [
    "df = pd.read_csv(\"datos/supermarket2.csv\", index_col = 0)\n",
    "df.sample(2)"
   ]
  },
  {
   "attachments": {},
   "cell_type": "markdown",
   "metadata": {},
   "source": [
    "Nuestra variable respuesta o dependiente es Rating"
   ]
  },
  {
   "cell_type": "code",
   "execution_count": 3,
   "metadata": {},
   "outputs": [
    {
     "data": {
      "text/plain": [
       "0.00900964876573073"
      ]
     },
     "execution_count": 3,
     "metadata": {},
     "output_type": "execute_result"
    }
   ],
   "source": [
    "df[\"Rating\"].skew()"
   ]
  },
  {
   "cell_type": "code",
   "execution_count": 6,
   "metadata": {},
   "outputs": [
    {
     "data": {
      "image/png": "[encoded data removed]",
      "text/plain": [
       "<Figure size 720x576 with 1 Axes>"
      ]
     },
     "metadata": {
      "needs_background": "light"
     },
     "output_type": "display_data"
    }
   ],
   "source": [
    "\n",
    "sns.histplot(data = df,\n",
    "        x = df[\"Rating\"],\n",
    "        kde = True, \n",
    "        color = \"cadetblue\", \n",
    "        line_kws = {\"linewidth\": 2}, # para indicar el ancho de las líneas de las barras\n",
    "        alpha = 0.5,\n",
    "        bins = 10);"
   ]
  },
  {
   "attachments": {},
   "cell_type": "markdown",
   "metadata": {},
   "source": [
    "El valor de la simetría próximo a 0 nos indica que la distribución es simétrica prácticamente aunque no tenga forma de campana de Gauss."
   ]
  },
  {
   "cell_type": "code",
   "execution_count": 5,
   "metadata": {},
   "outputs": [
    {
     "data": {
      "text/plain": [
       "KurtosistestResult(statistic=-22.71792320140484, pvalue=2.9796608289874047e-114)"
      ]
     },
     "execution_count": 5,
     "metadata": {},
     "output_type": "execute_result"
    }
   ],
   "source": [
    "kurtosistest(df[\"Rating\"])"
   ]
  },
  {
   "attachments": {},
   "cell_type": "markdown",
   "metadata": {},
   "source": [
    "Respecto a la curtosis, tenemos un valor que es prácticamente 0 por lo que la curva es mesocúrtica."
   ]
  },
  {
   "cell_type": "code",
   "execution_count": 8,
   "metadata": {},
   "outputs": [
    {
     "data": {
      "text/plain": [
       "ShapiroResult(statistic=0.9581990838050842, pvalue=2.6858377142073477e-16)"
      ]
     },
     "execution_count": 8,
     "metadata": {},
     "output_type": "execute_result"
    }
   ],
   "source": [
    "stats.shapiro(df[\"Rating\"])"
   ]
  },
  {
   "attachments": {},
   "cell_type": "markdown",
   "metadata": {},
   "source": [
    "H0 - Los datos tienen una distribución normal\n",
    "H1 - Los datos no tienen una distribución normal\n",
    "\n",
    "Dado el pvalue podemos rechazar H0 y por lo tanto nuestra variable respuesta o dependiente no tiene una distribución normal. "
   ]
  },
  {
   "cell_type": "code",
   "execution_count": 11,
   "metadata": {},
   "outputs": [
    {
     "data": {
      "image/png": "[encoded data removed]",
      "text/plain": [
       "<Figure size 720x576 with 1 Axes>"
      ]
     },
     "metadata": {
      "needs_background": "light"
     },
     "output_type": "display_data"
    }
   ],
   "source": [
    "sm.qqplot(df[\"Rating\"], line = \"45\");"
   ]
  },
  {
   "attachments": {},
   "cell_type": "markdown",
   "metadata": {},
   "source": [
    "Como hemos ido viendo, la distribución respecto a esta variable es simétrica pero los datos no son normales. "
   ]
  }
 ],
 "metadata": {
  "kernelspec": {
   "display_name": "base",
   "language": "python",
   "name": "python3"
  },
  "language_info": {
   "codemirror_mode": {
    "name": "ipython",
    "version": 3
   },
   "file_extension": ".py",
   "mimetype": "text/x-python",
   "name": "python",
   "nbconvert_exporter": "python",
   "pygments_lexer": "ipython3",
   "version": "3.9.7"
  },
  "orig_nbformat": 4
 },
 "nbformat": 4,
 "nbformat_minor": 2
}
