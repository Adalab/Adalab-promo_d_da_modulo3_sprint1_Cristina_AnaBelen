{
 "cells": [
  {
   "cell_type": "code",
   "execution_count": 1,
   "metadata": {},
   "outputs": [],
   "source": [
    "import numpy as np\n",
    "import pandas as pd\n",
    "import random \n",
    "\n",
    "import matplotlib.pyplot as plt\n",
    "import seaborn as sns\n",
    "\n",
    "from scipy import stats\n",
    "import researchpy as rp\n",
    "from scipy.stats import levene\n",
    "from itertools import combinations\n",
    "\n",
    "\n",
    "plt.rcParams[\"figure.figsize\"] = (10,8) "
   ]
  },
  {
   "attachments": {},
   "cell_type": "markdown",
   "metadata": {},
   "source": [
    "# Pair Programming Asunciones Regresión Lineal\n",
    "\n",
    "    En este ejercicio de pair programming seguiréis usando el dataset que seleccionasteis.\n"
   ]
  },
  {
   "attachments": {},
   "cell_type": "markdown",
   "metadata": {},
   "source": [
    "    El objetivo de este pair programming es que evaluéis si vuestro set de datos cumple todas las asunciones que se deben cumplir para hacer una regresión lineal. \n"
   ]
  },
  {
   "attachments": {},
   "cell_type": "markdown",
   "metadata": {},
   "source": [
    "    1. Normalidad (ya la deberíais haber evaluado)\n",
    " \n",
    "Nuestra variable respuesta no cumple esta condición. Vamos a ir evaluando el resto de asunciones (independencia y homocedasticidad de las variables predictoras) a la espera de saber si podremos normalizarla. "
   ]
  },
  {
   "cell_type": "code",
   "execution_count": 2,
   "metadata": {},
   "outputs": [
    {
     "data": {
      "text/html": [
       "<div>\n",
       "<style scoped>\n",
       "    .dataframe tbody tr th:only-of-type {\n",
       "        vertical-align: middle;\n",
       "    }\n",
       "\n",
       "    .dataframe tbody tr th {\n",
       "        vertical-align: top;\n",
       "    }\n",
       "\n",
       "    .dataframe thead th {\n",
       "        text-align: right;\n",
       "    }\n",
       "</style>\n",
       "<table border=\"1\" class=\"dataframe\">\n",
       "  <thead>\n",
       "    <tr style=\"text-align: right;\">\n",
       "      <th></th>\n",
       "      <th>Branch</th>\n",
       "      <th>City</th>\n",
       "      <th>Customer type</th>\n",
       "      <th>Gender</th>\n",
       "      <th>Product line</th>\n",
       "      <th>Unit price</th>\n",
       "      <th>Quantity</th>\n",
       "      <th>Tax 5%</th>\n",
       "      <th>Total</th>\n",
       "      <th>Payment</th>\n",
       "      <th>Rating</th>\n",
       "      <th>hora_compra</th>\n",
       "      <th>mes_compra</th>\n",
       "    </tr>\n",
       "    <tr>\n",
       "      <th>Invoice ID</th>\n",
       "      <th></th>\n",
       "      <th></th>\n",
       "      <th></th>\n",
       "      <th></th>\n",
       "      <th></th>\n",
       "      <th></th>\n",
       "      <th></th>\n",
       "      <th></th>\n",
       "      <th></th>\n",
       "      <th></th>\n",
       "      <th></th>\n",
       "      <th></th>\n",
       "      <th></th>\n",
       "    </tr>\n",
       "  </thead>\n",
       "  <tbody>\n",
       "    <tr>\n",
       "      <th>750-67-8428</th>\n",
       "      <td>A</td>\n",
       "      <td>Yangon</td>\n",
       "      <td>Member</td>\n",
       "      <td>Female</td>\n",
       "      <td>Health and beauty</td>\n",
       "      <td>74.69</td>\n",
       "      <td>7</td>\n",
       "      <td>26.1415</td>\n",
       "      <td>548.9715</td>\n",
       "      <td>Ewallet</td>\n",
       "      <td>9.1</td>\n",
       "      <td>Mañana</td>\n",
       "      <td>January</td>\n",
       "    </tr>\n",
       "    <tr>\n",
       "      <th>226-31-3081</th>\n",
       "      <td>C</td>\n",
       "      <td>Naypyitaw</td>\n",
       "      <td>Normal</td>\n",
       "      <td>Female</td>\n",
       "      <td>Electronic accessories</td>\n",
       "      <td>15.28</td>\n",
       "      <td>5</td>\n",
       "      <td>3.8200</td>\n",
       "      <td>80.2200</td>\n",
       "      <td>Cash</td>\n",
       "      <td>9.6</td>\n",
       "      <td>Mañana</td>\n",
       "      <td>March</td>\n",
       "    </tr>\n",
       "    <tr>\n",
       "      <th>631-41-3108</th>\n",
       "      <td>A</td>\n",
       "      <td>Yangon</td>\n",
       "      <td>Normal</td>\n",
       "      <td>Male</td>\n",
       "      <td>Home and lifestyle</td>\n",
       "      <td>46.33</td>\n",
       "      <td>7</td>\n",
       "      <td>16.2155</td>\n",
       "      <td>340.5255</td>\n",
       "      <td>Credit card</td>\n",
       "      <td>7.4</td>\n",
       "      <td>Mañana</td>\n",
       "      <td>March</td>\n",
       "    </tr>\n",
       "    <tr>\n",
       "      <th>123-19-1176</th>\n",
       "      <td>A</td>\n",
       "      <td>Yangon</td>\n",
       "      <td>Member</td>\n",
       "      <td>Male</td>\n",
       "      <td>Health and beauty</td>\n",
       "      <td>58.22</td>\n",
       "      <td>8</td>\n",
       "      <td>23.2880</td>\n",
       "      <td>489.0480</td>\n",
       "      <td>Ewallet</td>\n",
       "      <td>8.4</td>\n",
       "      <td>Noche</td>\n",
       "      <td>January</td>\n",
       "    </tr>\n",
       "    <tr>\n",
       "      <th>373-73-7910</th>\n",
       "      <td>A</td>\n",
       "      <td>Yangon</td>\n",
       "      <td>Normal</td>\n",
       "      <td>Male</td>\n",
       "      <td>Sports and travel</td>\n",
       "      <td>86.31</td>\n",
       "      <td>7</td>\n",
       "      <td>30.2085</td>\n",
       "      <td>634.3785</td>\n",
       "      <td>Ewallet</td>\n",
       "      <td>5.3</td>\n",
       "      <td>Mañana</td>\n",
       "      <td>February</td>\n",
       "    </tr>\n",
       "  </tbody>\n",
       "</table>\n",
       "</div>"
      ],
      "text/plain": [
       "            Branch       City Customer type  Gender            Product line  \\\n",
       "Invoice ID                                                                    \n",
       "750-67-8428      A     Yangon        Member  Female       Health and beauty   \n",
       "226-31-3081      C  Naypyitaw        Normal  Female  Electronic accessories   \n",
       "631-41-3108      A     Yangon        Normal    Male      Home and lifestyle   \n",
       "123-19-1176      A     Yangon        Member    Male       Health and beauty   \n",
       "373-73-7910      A     Yangon        Normal    Male       Sports and travel   \n",
       "\n",
       "             Unit price  Quantity   Tax 5%     Total      Payment  Rating  \\\n",
       "Invoice ID                                                                  \n",
       "750-67-8428       74.69         7  26.1415  548.9715      Ewallet     9.1   \n",
       "226-31-3081       15.28         5   3.8200   80.2200         Cash     9.6   \n",
       "631-41-3108       46.33         7  16.2155  340.5255  Credit card     7.4   \n",
       "123-19-1176       58.22         8  23.2880  489.0480      Ewallet     8.4   \n",
       "373-73-7910       86.31         7  30.2085  634.3785      Ewallet     5.3   \n",
       "\n",
       "            hora_compra mes_compra  \n",
       "Invoice ID                          \n",
       "750-67-8428      Mañana    January  \n",
       "226-31-3081      Mañana      March  \n",
       "631-41-3108      Mañana      March  \n",
       "123-19-1176       Noche    January  \n",
       "373-73-7910      Mañana   February  "
      ]
     },
     "execution_count": 2,
     "metadata": {},
     "output_type": "execute_result"
    }
   ],
   "source": [
    "df= pd.read_csv(\"../datos/supermarket_limpio.csv\", index_col=0)\n",
    "df.head()"
   ]
  },
  {
   "attachments": {},
   "cell_type": "markdown",
   "metadata": {},
   "source": [
    "        2.  Homogeneidad de varianzas\n",
    "\n",
    "Realizamos primero el análisis visual\n"
   ]
  },
  {
   "cell_type": "code",
   "execution_count": 3,
   "metadata": {},
   "outputs": [],
   "source": [
    "lista_categoricas = ['Customer type', 'Gender', 'Payment', 'hora_compra', 'mes_compra']"
   ]
  },
  {
   "cell_type": "code",
   "execution_count": 4,
   "metadata": {},
   "outputs": [
    {
     "data": {
      "image/png": "[encoded data removed]",
      "text/plain": [
       "<Figure size 1080x720 with 5 Axes>"
      ]
     },
     "metadata": {
      "needs_background": "light"
     },
     "output_type": "display_data"
    }
   ],
   "source": [
    "fig, axes = plt.subplots(3, 2, figsize = (15, 10))\n",
    "\n",
    "axes = axes.flat\n",
    "\n",
    "for i, columna in enumerate(lista_categoricas):\n",
    "    sns.boxplot(x=df[columna], y = df[\"Rating\"], data = df, ax = axes[i])\n",
    "    \n",
    "plt.tight_layout()\n",
    "fig.delaxes(axes[-1]) \n",
    "plt.show();\n",
    "    "
   ]
  },
  {
   "attachments": {},
   "cell_type": "markdown",
   "metadata": {},
   "source": [
    "Vemos que nuestras variables categóricas predictoras son homocedásticas. En este caso se ve visualmente bien y decidimos no aplicar ningún test. Podríamos haber usado Levene o Bartlett."
   ]
  },
  {
   "cell_type": "code",
   "execution_count": 5,
   "metadata": {},
   "outputs": [],
   "source": [
    "# creamos un diccionario para almacenar los resultados de los test\n",
    "resultados = {}\n",
    "\n",
    "# seleccionamos solo las columnas numéricas y eliminamos la columna de precio\n",
    "numericas_col = df.select_dtypes(include = np.number).drop(\"Rating\", axis = 1).columns\n",
    "\n",
    "#iteremos por la lista de las columnas numéricas\n",
    "for col in numericas_col:\n",
    "    # calculamos el p-valor de test\n",
    "    statistic, p_val = levene(df[col], df.Rating, center='median')\n",
    "    # lo almacenamos en el diccionario\n",
    "    resultados[col] = p_val"
   ]
  },
  {
   "cell_type": "code",
   "execution_count": 6,
   "metadata": {},
   "outputs": [
    {
     "data": {
      "text/plain": [
       "{'Unit price': 0.0,\n",
       " 'Quantity': 5.057396158167268e-72,\n",
       " 'Tax 5%': 8.64465835428562e-176,\n",
       " 'Total': 8.248082173683168e-231}"
      ]
     },
     "execution_count": 6,
     "metadata": {},
     "output_type": "execute_result"
    }
   ],
   "source": [
    "resultados"
   ]
  },
  {
   "cell_type": "code",
   "execution_count": 7,
   "metadata": {},
   "outputs": [
    {
     "data": {
      "image/png": "[encoded data removed]",
      "text/plain": [
       "<Figure size 720x576 with 1 Axes>"
      ]
     },
     "metadata": {
      "needs_background": "light"
     },
     "output_type": "display_data"
    }
   ],
   "source": [
    "sns.regplot(data = df, x=df[\"Total\"], y = df[\"Rating\"]);"
   ]
  },
  {
   "cell_type": "code",
   "execution_count": 8,
   "metadata": {},
   "outputs": [
    {
     "data": {
      "image/png": "[encoded data removed]",
      "text/plain": [
       "<Figure size 720x576 with 1 Axes>"
      ]
     },
     "metadata": {
      "needs_background": "light"
     },
     "output_type": "display_data"
    }
   ],
   "source": [
    "\n",
    "sns.regplot(data = df, x=df[\"Unit price\"], y = df[\"Rating\"]);"
   ]
  },
  {
   "attachments": {},
   "cell_type": "markdown",
   "metadata": {},
   "source": [
    "Siguiendo lo que habíamos visto ya, en el caso de las variables numéricas la asunción de homocedasticidad no se cumple, por lo tanto no podremos utilizarlas en el modelo de regresión lineal simple. "
   ]
  },
  {
   "attachments": {},
   "cell_type": "markdown",
   "metadata": {},
   "source": [
    "        3. Independencia de las variables\n",
    "    Cada asunción la deberéis testar de forma visual y analítica."
   ]
  },
  {
   "cell_type": "code",
   "execution_count": 9,
   "metadata": {},
   "outputs": [
    {
     "data": {
      "text/html": [
       "<div>\n",
       "<style scoped>\n",
       "    .dataframe tbody tr th:only-of-type {\n",
       "        vertical-align: middle;\n",
       "    }\n",
       "\n",
       "    .dataframe tbody tr th {\n",
       "        vertical-align: top;\n",
       "    }\n",
       "\n",
       "    .dataframe thead th {\n",
       "        text-align: right;\n",
       "    }\n",
       "</style>\n",
       "<table border=\"1\" class=\"dataframe\">\n",
       "  <thead>\n",
       "    <tr style=\"text-align: right;\">\n",
       "      <th></th>\n",
       "      <th>Branch</th>\n",
       "      <th>City</th>\n",
       "      <th>Customer type</th>\n",
       "      <th>Gender</th>\n",
       "      <th>Product line</th>\n",
       "      <th>Unit price</th>\n",
       "      <th>Quantity</th>\n",
       "      <th>Tax 5%</th>\n",
       "      <th>Total</th>\n",
       "      <th>Payment</th>\n",
       "      <th>Rating</th>\n",
       "      <th>hora_compra</th>\n",
       "      <th>mes_compra</th>\n",
       "    </tr>\n",
       "    <tr>\n",
       "      <th>Invoice ID</th>\n",
       "      <th></th>\n",
       "      <th></th>\n",
       "      <th></th>\n",
       "      <th></th>\n",
       "      <th></th>\n",
       "      <th></th>\n",
       "      <th></th>\n",
       "      <th></th>\n",
       "      <th></th>\n",
       "      <th></th>\n",
       "      <th></th>\n",
       "      <th></th>\n",
       "      <th></th>\n",
       "    </tr>\n",
       "  </thead>\n",
       "  <tbody>\n",
       "    <tr>\n",
       "      <th>750-67-8428</th>\n",
       "      <td>A</td>\n",
       "      <td>Yangon</td>\n",
       "      <td>Member</td>\n",
       "      <td>Female</td>\n",
       "      <td>Health and beauty</td>\n",
       "      <td>74.69</td>\n",
       "      <td>7</td>\n",
       "      <td>26.1415</td>\n",
       "      <td>548.9715</td>\n",
       "      <td>Ewallet</td>\n",
       "      <td>9.1</td>\n",
       "      <td>Mañana</td>\n",
       "      <td>January</td>\n",
       "    </tr>\n",
       "    <tr>\n",
       "      <th>226-31-3081</th>\n",
       "      <td>C</td>\n",
       "      <td>Naypyitaw</td>\n",
       "      <td>Normal</td>\n",
       "      <td>Female</td>\n",
       "      <td>Electronic accessories</td>\n",
       "      <td>15.28</td>\n",
       "      <td>5</td>\n",
       "      <td>3.8200</td>\n",
       "      <td>80.2200</td>\n",
       "      <td>Cash</td>\n",
       "      <td>9.6</td>\n",
       "      <td>Mañana</td>\n",
       "      <td>March</td>\n",
       "    </tr>\n",
       "    <tr>\n",
       "      <th>631-41-3108</th>\n",
       "      <td>A</td>\n",
       "      <td>Yangon</td>\n",
       "      <td>Normal</td>\n",
       "      <td>Male</td>\n",
       "      <td>Home and lifestyle</td>\n",
       "      <td>46.33</td>\n",
       "      <td>7</td>\n",
       "      <td>16.2155</td>\n",
       "      <td>340.5255</td>\n",
       "      <td>Credit card</td>\n",
       "      <td>7.4</td>\n",
       "      <td>Mañana</td>\n",
       "      <td>March</td>\n",
       "    </tr>\n",
       "    <tr>\n",
       "      <th>123-19-1176</th>\n",
       "      <td>A</td>\n",
       "      <td>Yangon</td>\n",
       "      <td>Member</td>\n",
       "      <td>Male</td>\n",
       "      <td>Health and beauty</td>\n",
       "      <td>58.22</td>\n",
       "      <td>8</td>\n",
       "      <td>23.2880</td>\n",
       "      <td>489.0480</td>\n",
       "      <td>Ewallet</td>\n",
       "      <td>8.4</td>\n",
       "      <td>Noche</td>\n",
       "      <td>January</td>\n",
       "    </tr>\n",
       "    <tr>\n",
       "      <th>373-73-7910</th>\n",
       "      <td>A</td>\n",
       "      <td>Yangon</td>\n",
       "      <td>Normal</td>\n",
       "      <td>Male</td>\n",
       "      <td>Sports and travel</td>\n",
       "      <td>86.31</td>\n",
       "      <td>7</td>\n",
       "      <td>30.2085</td>\n",
       "      <td>634.3785</td>\n",
       "      <td>Ewallet</td>\n",
       "      <td>5.3</td>\n",
       "      <td>Mañana</td>\n",
       "      <td>February</td>\n",
       "    </tr>\n",
       "  </tbody>\n",
       "</table>\n",
       "</div>"
      ],
      "text/plain": [
       "            Branch       City Customer type  Gender            Product line  \\\n",
       "Invoice ID                                                                    \n",
       "750-67-8428      A     Yangon        Member  Female       Health and beauty   \n",
       "226-31-3081      C  Naypyitaw        Normal  Female  Electronic accessories   \n",
       "631-41-3108      A     Yangon        Normal    Male      Home and lifestyle   \n",
       "123-19-1176      A     Yangon        Member    Male       Health and beauty   \n",
       "373-73-7910      A     Yangon        Normal    Male       Sports and travel   \n",
       "\n",
       "             Unit price  Quantity   Tax 5%     Total      Payment  Rating  \\\n",
       "Invoice ID                                                                  \n",
       "750-67-8428       74.69         7  26.1415  548.9715      Ewallet     9.1   \n",
       "226-31-3081       15.28         5   3.8200   80.2200         Cash     9.6   \n",
       "631-41-3108       46.33         7  16.2155  340.5255  Credit card     7.4   \n",
       "123-19-1176       58.22         8  23.2880  489.0480      Ewallet     8.4   \n",
       "373-73-7910       86.31         7  30.2085  634.3785      Ewallet     5.3   \n",
       "\n",
       "            hora_compra mes_compra  \n",
       "Invoice ID                          \n",
       "750-67-8428      Mañana    January  \n",
       "226-31-3081      Mañana      March  \n",
       "631-41-3108      Mañana      March  \n",
       "123-19-1176       Noche    January  \n",
       "373-73-7910      Mañana   February  "
      ]
     },
     "execution_count": 9,
     "metadata": {},
     "output_type": "execute_result"
    }
   ],
   "source": [
    "df.head()"
   ]
  },
  {
   "attachments": {},
   "cell_type": "markdown",
   "metadata": {},
   "source": [
    "Variables a comprobar: Gender, Payment, hora_compra, mes_compra, Customer_type\n",
    "Hicimos todas las combinaciones antes de aprender el método combinations.\n",
    "Dejamos una de muestra y después el método.                       "
   ]
  },
  {
   "cell_type": "code",
   "execution_count": 10,
   "metadata": {},
   "outputs": [],
   "source": [
    "crosstab, test_results, expected = rp.crosstab(df[\"Gender\"], df[\"Payment\"], \n",
    "                                    test = \"chi-square\", expected_freqs = True, \n",
    "                                    prop = \"cell\")"
   ]
  },
  {
   "cell_type": "code",
   "execution_count": 11,
   "metadata": {},
   "outputs": [
    {
     "data": {
      "text/html": [
       "<div>\n",
       "<style scoped>\n",
       "    .dataframe tbody tr th:only-of-type {\n",
       "        vertical-align: middle;\n",
       "    }\n",
       "\n",
       "    .dataframe tbody tr th {\n",
       "        vertical-align: top;\n",
       "    }\n",
       "\n",
       "    .dataframe thead th {\n",
       "        text-align: right;\n",
       "    }\n",
       "</style>\n",
       "<table border=\"1\" class=\"dataframe\">\n",
       "  <thead>\n",
       "    <tr style=\"text-align: right;\">\n",
       "      <th></th>\n",
       "      <th>Chi-square test</th>\n",
       "      <th>results</th>\n",
       "    </tr>\n",
       "  </thead>\n",
       "  <tbody>\n",
       "    <tr>\n",
       "      <th>0</th>\n",
       "      <td>Pearson Chi-square ( 2.0) =</td>\n",
       "      <td>2.9497</td>\n",
       "    </tr>\n",
       "    <tr>\n",
       "      <th>1</th>\n",
       "      <td>p-value =</td>\n",
       "      <td>0.2288</td>\n",
       "    </tr>\n",
       "    <tr>\n",
       "      <th>2</th>\n",
       "      <td>Cramer's V =</td>\n",
       "      <td>0.0543</td>\n",
       "    </tr>\n",
       "  </tbody>\n",
       "</table>\n",
       "</div>"
      ],
      "text/plain": [
       "                Chi-square test  results\n",
       "0  Pearson Chi-square ( 2.0) =    2.9497\n",
       "1                    p-value =    0.2288\n",
       "2                 Cramer's V =    0.0543"
      ]
     },
     "execution_count": 11,
     "metadata": {},
     "output_type": "execute_result"
    }
   ],
   "source": [
    "test_results"
   ]
  },
  {
   "attachments": {},
   "cell_type": "markdown",
   "metadata": {},
   "source": [
    "Estas dos variables son independientes. El p-value mayor que 0.05 impide rechazar la H0 (las variables son independientes) y el valor de Cramer's V cercano a 0 indica también la independencia de las variables. "
   ]
  },
  {
   "attachments": {},
   "cell_type": "markdown",
   "metadata": {},
   "source": [
    "A continuación vamos a revisar el resto de variables categóricas usando el método combinations. "
   ]
  },
  {
   "cell_type": "code",
   "execution_count": 12,
   "metadata": {},
   "outputs": [],
   "source": [
    "predictoras = ['Customer type', 'Gender', 'Payment', 'hora_compra', 'mes_compra']"
   ]
  },
  {
   "cell_type": "code",
   "execution_count": 13,
   "metadata": {},
   "outputs": [
    {
     "name": "stdout",
     "output_type": "stream",
     "text": [
      "[('Customer type', 'Gender'), ('Customer type', 'Payment'), ('Customer type', 'hora_compra'), ('Customer type', 'mes_compra'), ('Gender', 'Payment'), ('Gender', 'hora_compra'), ('Gender', 'mes_compra'), ('Payment', 'hora_compra'), ('Payment', 'mes_compra'), ('hora_compra', 'mes_compra')]\n"
     ]
    }
   ],
   "source": [
    "combinaciones = list(combinations(predictoras, 2))\n",
    "print(combinaciones)"
   ]
  },
  {
   "cell_type": "code",
   "execution_count": 14,
   "metadata": {},
   "outputs": [
    {
     "name": "stdout",
     "output_type": "stream",
     "text": [
      "INDEPENDENCIA ENTRE Customer type, Gender \n",
      "                 Chi-square test  results\n",
      "0  Pearson Chi-square ( 1.0) =    1.5997\n",
      "1                    p-value =    0.2059\n",
      "2               Cramer's phi =    0.0400\n",
      "................................\n",
      "INDEPENDENCIA ENTRE Customer type, Payment \n",
      "                 Chi-square test  results\n",
      "0  Pearson Chi-square ( 2.0) =    5.2170\n",
      "1                    p-value =    0.0736\n",
      "2                 Cramer's V =    0.0722\n",
      "................................\n",
      "INDEPENDENCIA ENTRE Customer type, hora_compra \n",
      "                 Chi-square test  results\n",
      "0  Pearson Chi-square ( 2.0) =    1.7184\n",
      "1                    p-value =    0.4235\n",
      "2                 Cramer's V =    0.0415\n",
      "................................\n",
      "INDEPENDENCIA ENTRE Customer type, mes_compra \n",
      "                 Chi-square test  results\n",
      "0  Pearson Chi-square ( 2.0) =    2.4136\n",
      "1                    p-value =    0.2992\n",
      "2                 Cramer's V =    0.0491\n",
      "................................\n",
      "INDEPENDENCIA ENTRE Gender, Payment \n",
      "                 Chi-square test  results\n",
      "0  Pearson Chi-square ( 2.0) =    2.9497\n",
      "1                    p-value =    0.2288\n",
      "2                 Cramer's V =    0.0543\n",
      "................................\n",
      "INDEPENDENCIA ENTRE Gender, hora_compra \n",
      "                 Chi-square test  results\n",
      "0  Pearson Chi-square ( 2.0) =    9.8463\n",
      "1                    p-value =    0.0073\n",
      "2                 Cramer's V =    0.0992\n",
      "................................\n",
      "INDEPENDENCIA ENTRE Gender, mes_compra \n",
      "                 Chi-square test  results\n",
      "0  Pearson Chi-square ( 2.0) =    3.5921\n",
      "1                    p-value =    0.1660\n",
      "2                 Cramer's V =    0.0599\n",
      "................................\n",
      "INDEPENDENCIA ENTRE Payment, hora_compra \n",
      "                 Chi-square test  results\n",
      "0  Pearson Chi-square ( 4.0) =    2.6496\n",
      "1                    p-value =    0.6181\n",
      "2                 Cramer's V =    0.0364\n",
      "................................\n",
      "INDEPENDENCIA ENTRE Payment, mes_compra \n",
      "                 Chi-square test  results\n",
      "0  Pearson Chi-square ( 4.0) =    2.3453\n",
      "1                    p-value =    0.6725\n",
      "2                 Cramer's V =    0.0342\n",
      "................................\n",
      "INDEPENDENCIA ENTRE hora_compra, mes_compra \n",
      "                 Chi-square test  results\n",
      "0  Pearson Chi-square ( 4.0) =    2.7743\n",
      "1                    p-value =    0.5963\n",
      "2                 Cramer's V =    0.0372\n",
      "................................\n"
     ]
    }
   ],
   "source": [
    "for i in combinaciones:\n",
    "    crosstab, test_results, expected = rp.crosstab(df[i[0]], df[i[1]], \n",
    "                                    test = \"chi-square\", expected_freqs = True, \n",
    "                                    prop = \"cell\")\n",
    "    \n",
    "\n",
    "    print(f'INDEPENDENCIA ENTRE {i[0]}, {i[1]} \\n', test_results)\n",
    "    print('................................')"
   ]
  },
  {
   "attachments": {},
   "cell_type": "markdown",
   "metadata": {},
   "source": [
    "Recordamos que si  las variables son categóricas, analíticamente utilizamos Chi- cuadrado / V-Cramer. La V-Cramer varía entre 0 a 1:\n",
    "\n",
    "    - Si el valor es cercano a 1 las variables son dependientes (es como tener un valor de correlación de 1 o -1). El límite para decidir que la independencia no es suficiente es 0.7. \n",
    "    \n",
    "    - Si el valor es cercano a 0 las variables son independientes. "
   ]
  },
  {
   "attachments": {},
   "cell_type": "markdown",
   "metadata": {},
   "source": [
    "Todas nuestras variables predictoras son independientes."
   ]
  }
 ],
 "metadata": {
  "kernelspec": {
   "display_name": "base",
   "language": "python",
   "name": "python3"
  },
  "language_info": {
   "codemirror_mode": {
    "name": "ipython",
    "version": 3
   },
   "file_extension": ".py",
   "mimetype": "text/x-python",
   "name": "python",
   "nbconvert_exporter": "python",
   "pygments_lexer": "ipython3",
   "version": "3.9.7"
  },
  "orig_nbformat": 4
 },
 "nbformat": 4,
 "nbformat_minor": 2
}
